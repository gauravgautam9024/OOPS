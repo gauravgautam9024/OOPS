{
 "cells": [
  {
   "cell_type": "code",
   "execution_count": null,
   "id": "be23e18f-228b-4607-a077-db43c2c20876",
   "metadata": {},
   "outputs": [],
   "source": [
    "\"\"\" OVERLODING ITS ALSO HAVE ONE PROGRAM YA FUNCTION AND ACTION YOU USE MULTIPLE TIME IN CLASS  BUT ALWAYS DIFFERENT DATA TYPES AND PARAMETERS \"\"\"\n",
    "# LIKE you call your friend direct call ,whatsup call and inst phone its only one action but different parameters\n"
   ]
  },
  {
   "cell_type": "code",
   "execution_count": 7,
   "id": "87c0fdb9-d23b-444a-a879-1c6635f0eca7",
   "metadata": {},
   "outputs": [],
   "source": [
    "# FUNCTION OVERLODING IN PYTHON\n",
    "class phone:\n",
    "    def greet(self):\n",
    "        print(\"hellow\")\n",
    "    def greet(self,name):\n",
    "        print(\"hii\")\n",
    "v = phone()\n",
    "v.greet()\n",
    "    "
   ]
  },
  {
   "cell_type": "code",
   "execution_count": 11,
   "id": "e1d967ce-d581-4ad0-b0d2-85b1285e1d1a",
   "metadata": {},
   "outputs": [
    {
     "name": "stdout",
     "output_type": "stream",
     "text": [
      "ijhjjhl\n"
     ]
    }
   ],
   "source": [
    "# OPERATER OVERLODING IN PYTHON\n",
    "class op:\n",
    "    def __init__(self,x):\n",
    "        self.x= x\n",
    "    def __add__(self,other):\n",
    "        print(self.x+other.x)\n",
    "    def __mul__(self,other):\n",
    "        print(self.x*other)\n",
    "v = op(\"ijhj\")\n",
    "b = op(\"jhl\")\n",
    "c = v+b"
   ]
  },
  {
   "cell_type": "code",
   "execution_count": 11,
   "id": "91532f0a-acff-4e5c-a05b-1395b81e179d",
   "metadata": {},
   "outputs": [
    {
     "name": "stdout",
     "output_type": "stream",
     "text": [
      "80\n",
      "76\n",
      "39.0\n",
      "39\n",
      "156\n"
     ]
    }
   ],
   "source": [
    "\"\"\" We have many operators overloding method in overloding\"\"\"\n",
    " # 1. add = addition(+)\n",
    " # 2.sub = subtraction(-)\n",
    " # 3.mul = muliplaction(*)\n",
    " # 4.truediv = division(/)\n",
    " # 5.floordiv = floor division(//)\n",
    " # 6.pow = power(**)\n",
    " # 7.modulo = modules(%)\n",
    "\"\"\" This is some method of operators overloding\"\"\"\n",
    "class oper:\n",
    "    def __init__(self,a):\n",
    "        self.a = a\n",
    "    def __add__(self,other):         # 1. add = addition(+)\n",
    "        return self.a+other.a\n",
    "    def __sub__(self,other):          # 2.sub = subtraction(-)\n",
    "        return self.a-other.a\n",
    "    def __truediv__(self,other):      # 4.truediv = division(/)\n",
    "        return self.a/other.a\n",
    "    def __floordiv__(self,other):     # 5.floordiv = floor division(//)\n",
    "        return self.a//other.a\n",
    "    def __mul__(self,other):\n",
    "        return self.a*other.a         # 3.mul = muliplaction(*)\n",
    "    def __modulo__(self,other):\n",
    "        return self.a % other.a\n",
    "v = oper(78)\n",
    "c = oper(2)\n",
    "print(v+c)\n",
    "print(v-c)\n",
    "print(v/c)\n",
    "print(v//c)\n",
    "print(v*c)"
   ]
  },
  {
   "cell_type": "code",
   "execution_count": 13,
   "id": "bc40b560-2b34-4ea7-9488-4a935b046bf3",
   "metadata": {},
   "outputs": [
    {
     "name": "stdout",
     "output_type": "stream",
     "text": [
      "False\n",
      "False\n"
     ]
    }
   ],
   "source": [
    "# Comparsion Operators\n",
    "# 1. eq = (==)\n",
    "# 2. ne = (!=)\n",
    "# 3. lt = (<)\n",
    "# 4. le = (<=)\n",
    "# 5. gt = (>)\n",
    "# 6. ge = (>=)\n",
    "class op:\n",
    "    def __init__(self,a):\n",
    "        self.a = a\n",
    "    def __eq__(self,other):           # 1. eq = (==)\n",
    "        return self.a == other.a\n",
    "    def __ne__(self,other):                # 2. ne = (!=)\n",
    "        return self.a != other.a\n",
    "    def __lt__(self,other):                # 3. lt = (<)\n",
    "        return self.a < other.a\n",
    "    def __le__(self,other):               # 4. le = (<=)\n",
    "        return self.a <= other.a    \n",
    "    def __ge__(self,other):                 # 5. gt = (>)\n",
    "        return self.a >= other.a\n",
    "    def __gt__(self,other):                  # 6. ge = (>=)\n",
    "        return self.a >other.a\n",
    "b = op(89)\n",
    "c = op(76)\n",
    "print(b==c)\n",
    "print(b<c)\n",
    "print(b<=c)\n",
    "print(b != c)\n",
    "print(b>c)\n",
    "print(b>=c)"
   ]
  },
  {
   "cell_type": "code",
   "execution_count": 18,
   "id": "dbcf732d-7568-4a67-9341-1a3baf5faa75",
   "metadata": {},
   "outputs": [
    {
     "name": "stdout",
     "output_type": "stream",
     "text": [
      "97\n",
      "1037\n"
     ]
    }
   ],
   "source": [
    "\"\"\" FUNCTION OVERLODING  with *ARGS\"\"\"\n",
    "class calcul:\n",
    "    def add(self,*args):\n",
    "        return sum(args)\n",
    "n = calcul()\n",
    "print(n.add(89,8))\n",
    "print(n.add(988,43,6))"
   ]
  },
  {
   "cell_type": "code",
   "execution_count": null,
   "id": "60493f13-2bb5-4efb-b381-5b7c962d8a7c",
   "metadata": {},
   "outputs": [],
   "source": [
    "\"\"\" OVERRIDING ITS ALSO PART OF PYTHON IN CLASS YOU USE INHERTENCE AND USE MULTIPLE METHOD AS SAME NAME AND THERE PARAMETER ALSO SAME ITS CALLED OVERRIDING \"\"\"\n"
   ]
  },
  {
   "cell_type": "code",
   "execution_count": 20,
   "id": "8b3a48f5-afde-4f21-9228-7bb29873ec35",
   "metadata": {},
   "outputs": [
    {
     "name": "stdout",
     "output_type": "stream",
     "text": [
      "Every animal is different sound\n",
      "bow\n"
     ]
    }
   ],
   "source": [
    "# overriding\n",
    "class animal:\n",
    "    def sound(self):\n",
    "        print(\"Every animal is different sound\")\n",
    "class dog(animal):\n",
    "    def sound(self):\n",
    "        print(\"bow\")\n",
    "v = animal()\n",
    "v.sound()\n",
    "t = dog()\n",
    "t.sound()\n"
   ]
  },
  {
   "cell_type": "code",
   "execution_count": null,
   "id": "0d593c58-a208-4cee-9227-662f98fa1fff",
   "metadata": {},
   "outputs": [],
   "source": []
  }
 ],
 "metadata": {
  "kernelspec": {
   "display_name": "Python 3 (ipykernel)",
   "language": "python",
   "name": "python3"
  },
  "language_info": {
   "codemirror_mode": {
    "name": "ipython",
    "version": 3
   },
   "file_extension": ".py",
   "mimetype": "text/x-python",
   "name": "python",
   "nbconvert_exporter": "python",
   "pygments_lexer": "ipython3",
   "version": "3.13.7"
  }
 },
 "nbformat": 4,
 "nbformat_minor": 5
}
