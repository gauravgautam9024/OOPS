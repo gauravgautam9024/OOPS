{
 "cells": [
  {
   "cell_type": "code",
   "execution_count": 30,
   "id": "04248c3b-e463-4a60-8005-16bbc45c4dc6",
   "metadata": {},
   "outputs": [
    {
     "name": "stdout",
     "output_type": "stream",
     "text": [
      "88\n"
     ]
    },
    {
     "data": {
      "text/plain": [
       "<__main__.met at 0x150b38627b0>"
      ]
     },
     "execution_count": 30,
     "metadata": {},
     "output_type": "execute_result"
    }
   ],
   "source": [
    "# Method in class\n",
    "class met:\n",
    "    def __init__(self,a,b): #constracter\n",
    "        print(a+b)\n",
    "v = met(34,54)\n",
    "v"
   ]
  },
  {
   "cell_type": "code",
   "execution_count": null,
   "id": "1cab676d-d706-4da4-9cca-c4e3001deb74",
   "metadata": {},
   "outputs": [],
   "source": [
    "#Polymerphism\n",
    "class bird:\n",
    "    def intro(self):\n",
    "        return \"i m bird\"\n",
    "    def fly(self):\n",
    "        return \"fly also\"\n",
    "class bir:\n",
    "    def fly(self):\n",
    "        return \"i cannot fly\"\n",
    "m = bird()\n",
    "m.intro()\n",
    "m.fly()\n",
    "\n",
    "# use with single varible and also written both at same time\n",
    "v = [bird(),bir()]\n",
    "for vs in v:\n",
    "    print(vs.fly())"
   ]
  },
  {
   "cell_type": "code",
   "execution_count": null,
   "id": "97e517ea-eaa9-463e-bbee-7147a11e858b",
   "metadata": {},
   "outputs": [],
   "source": [
    "#  Inheritence overloding\n",
    "class man:\n",
    "    def work(self):\n",
    "        return \"hard work\"\n",
    "        \n",
    "class woman(man):\n",
    "    def work(self):\n",
    "        return \" modurate work\"\n",
    "\n",
    "class child(man):\n",
    "    def work(self):\n",
    "        return \"no work\"\n",
    "v =man(),woman(),child()\n",
    "for vd in v:\n",
    "    print(vd.work())"
   ]
  },
  {
   "cell_type": "code",
   "execution_count": null,
   "id": "9db9f1ff-af98-4b49-9e09-bdfc7be1302e",
   "metadata": {},
   "outputs": [],
   "source": [
    "#function overloding \n",
    "#polymorphism and use inhertence its called overloding\n",
    "class dog:\n",
    "    def sound(self):\n",
    "        return \"bau bau\"\n",
    "        \n",
    "class cat(dog):\n",
    "    def sound(self):\n",
    "        return \"meau meau\"\n",
    "\n",
    "class mouse(dog):\n",
    "    def sound(self):\n",
    "        return \"che \"\n",
    "        \n",
    "v = [dog(),cat(),mouse()]\n",
    "for vd in v:\n",
    "    print(vd.sound())"
   ]
  },
  {
   "cell_type": "code",
   "execution_count": 31,
   "id": "55a5f6ea-5c5f-4170-a465-aba26f5c1fd8",
   "metadata": {},
   "outputs": [
    {
     "name": "stdin",
     "output_type": "stream",
     "text": [
      "enter str gaura\n",
      "enter str2 ajay\n"
     ]
    },
    {
     "name": "stdout",
     "output_type": "stream",
     "text": [
      "a str is big\n"
     ]
    },
    {
     "data": {
      "text/plain": [
       "<__main__.take at 0x150b3862a50>"
      ]
     },
     "execution_count": 31,
     "metadata": {},
     "output_type": "execute_result"
    }
   ],
   "source": [
    "# class use with take input from the user\n",
    "class take:\n",
    "    a = input(\"enter str\")\n",
    "    b = input(\"enter str2\")\n",
    "    if len(a)>len(b):\n",
    "        print(\"a str is big\")\n",
    "    else:\n",
    "        print(\"b str is big\")\n",
    "m = take()\n",
    "m"
   ]
  },
  {
   "cell_type": "code",
   "execution_count": 33,
   "id": "e887affc-7aa0-42dd-8a43-6e892237badf",
   "metadata": {},
   "outputs": [
    {
     "name": "stdout",
     "output_type": "stream",
     "text": [
      "dog\n"
     ]
    }
   ],
   "source": [
    "class animal:\n",
    "    def spak(self):\n",
    "        print(\"animal\")\n",
    "        \n",
    "class dog(animal):\n",
    "    def spak(self):\n",
    "        print(\"dog\")\n",
    "v  = dog()\n",
    "v.spak()"
   ]
  },
  {
   "cell_type": "code",
   "execution_count": 11,
   "id": "268d918b-5421-4121-b2ea-0bc1a1e37efb",
   "metadata": {},
   "outputs": [
    {
     "name": "stdin",
     "output_type": "stream",
     "text": [
      "enter vv\n"
     ]
    },
    {
     "data": {
      "text/plain": [
       "'vv'"
      ]
     },
     "execution_count": 11,
     "metadata": {},
     "output_type": "execute_result"
    }
   ],
   "source": [
    "class car:#class in python\n",
    "    color=input(\"enter\")\n",
    "    name=\"gaurav\"\n",
    "    def company(self,cm,ra):\n",
    "        self.cm = cm\n",
    "        self.ra = ra\n",
    "        print(cm,\"\",ra)\n",
    "ca = car()\n",
    "ca.company(\"tata\",\"strong\")\n"
   ]
  },
  {
   "cell_type": "code",
   "execution_count": 12,
   "id": "635bf568-e6f2-44ac-ae06-6953bed6c249",
   "metadata": {},
   "outputs": [],
   "source": [
    "class v: #this is class in python\n",
    "    pass\n",
    "v1 = v() #instanse of class its are object"
   ]
  },
  {
   "cell_type": "code",
   "execution_count": 14,
   "id": "6434d171-4f5a-4fa3-a464-30ec0272f94a",
   "metadata": {},
   "outputs": [
    {
     "data": {
      "text/plain": [
       "45"
      ]
     },
     "execution_count": 14,
     "metadata": {},
     "output_type": "execute_result"
    }
   ],
   "source": [
    "class dog:#Class\n",
    "    dname = \"labra\"  #its are instance in python\n",
    "    dw = 45          #its are instance in python\n",
    "d = dog()\n",
    "d.dname         #access of instance with . \n",
    "\n",
    "d.dw            #access of instance with .\n",
    "\n",
    "    "
   ]
  },
  {
   "cell_type": "code",
   "execution_count": 15,
   "id": "71b70aec-2a00-4a2e-95db-1b46cde967d8",
   "metadata": {},
   "outputs": [
    {
     "name": "stdout",
     "output_type": "stream",
     "text": [
      "7\n",
      "gaurav\n"
     ]
    }
   ],
   "source": [
    "class first:\n",
    "    def method(self,rol,name): # Method in python\n",
    "        self.rol = rol         #self alse parameter in method\n",
    "        self.name = name        #self are provide special premission to access the instane in methode\n",
    "        print(rol)\n",
    "        print(name)\n",
    "f = first()                  # Object definded\n",
    "f.method(7,\"gaurav\")         #access method in object\n"
   ]
  },
  {
   "cell_type": "code",
   "execution_count": 7,
   "id": "7bb05b55-9332-4e17-8835-a88ae8f7f7f5",
   "metadata": {},
   "outputs": [
    {
     "name": "stdout",
     "output_type": "stream",
     "text": [
      "wrong pin\n"
     ]
    }
   ],
   "source": [
    "class bank:\n",
    "    def __init__(self,accoun_num,balance):\n",
    "        self.accoun_num = accoun_num\n",
    "        self.balance = balance\n",
    "        self._pin = 1234\n",
    "    def deposit(self,amount,pin):\n",
    "        if pin==self._pin:\n",
    "            if amount<=self.balance:\n",
    "                self.balance += amount\n",
    "                print(f\"this is amount{amount} and {self.balance}\")\n",
    "            else:\n",
    "                print(\"insuffiring balnce\")\n",
    "        else:\n",
    "            print(\"wrong pin\")\n",
    "c = bank(23,3000)\n",
    "c.deposit(200,123)\n",
    "        \n",
    "        "
   ]
  },
  {
   "cell_type": "code",
   "execution_count": null,
   "id": "cb14c1b2-6793-486d-9508-384936943f94",
   "metadata": {},
   "outputs": [],
   "source": []
  }
 ],
 "metadata": {
  "kernelspec": {
   "display_name": "Python 3 (ipykernel)",
   "language": "python",
   "name": "python3"
  },
  "language_info": {
   "codemirror_mode": {
    "name": "ipython",
    "version": 3
   },
   "file_extension": ".py",
   "mimetype": "text/x-python",
   "name": "python",
   "nbconvert_exporter": "python",
   "pygments_lexer": "ipython3",
   "version": "3.13.7"
  }
 },
 "nbformat": 4,
 "nbformat_minor": 5
}
