{
 "cells": [
  {
   "cell_type": "code",
   "execution_count": null,
   "id": "81fcd91f-89ff-49ce-80c7-60a566ffe069",
   "metadata": {},
   "outputs": [],
   "source": [
    " \"\"\" COLLECTION OF ARRGUMENT IS FUNCTION\n",
    " AND COLLECTION OF FUNCTION WITH WORK ANOTHER FUNCTION AND METHOD ITS A CLASS\"\"\"\n"
   ]
  },
  {
   "cell_type": "code",
   "execution_count": null,
   "id": "f012ee13-1e7a-4a3e-b816-aeb29de25cf5",
   "metadata": {},
   "outputs": [],
   "source": [
    "# class are also blueprint of method in python"
   ]
  },
  {
   "cell_type": "code",
   "execution_count": null,
   "id": "8ea24834-9f71-4aad-a994-e48ab6f9b327",
   "metadata": {},
   "outputs": [],
   "source": [
    "# define a class\n",
    "class cl:\n",
    "    pass\n"
   ]
  },
  {
   "cell_type": "code",
   "execution_count": null,
   "id": "907ffefe-a1d2-40f7-9a27-759679863a18",
   "metadata": {},
   "outputs": [],
   "source": [
    "#define object to use to class \n",
    "# object is instance of class\n",
    "m = cl()\n",
    "m"
   ]
  },
  {
   "cell_type": "code",
   "execution_count": null,
   "id": "e32e8e59-ed75-4313-8792-2a5d5b2e78e0",
   "metadata": {},
   "outputs": [],
   "source": [
    "# Simple class in python\n",
    "class simple:\n",
    "    pass\n",
    "c = simple()\n",
    "c"
   ]
  },
  {
   "cell_type": "code",
   "execution_count": null,
   "id": "a7ba303a-50e9-490d-8be7-22b35d3cccd3",
   "metadata": {},
   "outputs": [],
   "source": [
    "# Method in class\n",
    "class met:\n",
    "    def __init__(self,a,b): #constracter\n",
    "        print(a+b)\n",
    "v = met(34,54)\n",
    "v"
   ]
  },
  {
   "cell_type": "code",
   "execution_count": null,
   "id": "a588611d-d442-42fe-b091-85711b6cc7dc",
   "metadata": {},
   "outputs": [],
   "source": [
    "# class use with take input from the user\n",
    "class take:\n",
    "    a = input(\"enter str\")\n",
    "    b = input(\"enter str2\")\n",
    "    if len(a)>len(b):\n",
    "        print(\"a str is big\")\n",
    "    else:\n",
    "        print(\"b str is big\")\n",
    "m = take()\n",
    "m"
   ]
  },
  {
   "cell_type": "code",
   "execution_count": null,
   "id": "9a7d72c6-7a03-4e21-8607-8f923b0db575",
   "metadata": {},
   "outputs": [],
   "source": [
    "class animal:\n",
    "    def spak(self):\n",
    "        print(\"animal\")\n",
    "        \n",
    "class dog(animal):\n",
    "    def spak(self):\n",
    "        print(\"dog\")\n",
    "v  = dog()\n",
    "v.spak()"
   ]
  },
  {
   "cell_type": "code",
   "execution_count": 11,
   "id": "268d918b-5421-4121-b2ea-0bc1a1e37efb",
   "metadata": {},
   "outputs": [
    {
     "name": "stdin",
     "output_type": "stream",
     "text": [
      "enter vv\n"
     ]
    },
    {
     "data": {
      "text/plain": [
       "'vv'"
      ]
     },
     "execution_count": 11,
     "metadata": {},
     "output_type": "execute_result"
    }
   ],
   "source": [
    "class car:#class in python\n",
    "    color=input(\"enter\")\n",
    "    name=\"gaurav\"\n",
    "    def company(self,cm,ra):\n",
    "        self.cm = cm\n",
    "        self.ra = ra\n",
    "        print(cm,\"\",ra)\n",
    "ca = car()\n",
    "ca.company(\"tata\",\"strong\")\n"
   ]
  },
  {
   "cell_type": "code",
   "execution_count": 12,
   "id": "635bf568-e6f2-44ac-ae06-6953bed6c249",
   "metadata": {},
   "outputs": [],
   "source": [
    "class v: #this is class in python\n",
    "    pass\n",
    "v1 = v() #instanse of class its are object"
   ]
  },
  {
   "cell_type": "code",
   "execution_count": 14,
   "id": "6434d171-4f5a-4fa3-a464-30ec0272f94a",
   "metadata": {},
   "outputs": [
    {
     "data": {
      "text/plain": [
       "45"
      ]
     },
     "execution_count": 14,
     "metadata": {},
     "output_type": "execute_result"
    }
   ],
   "source": [
    "class dog:#Class\n",
    "    dname = \"labra\"  #its are instance in python\n",
    "    dw = 45          #its are instance in python\n",
    "d = dog()\n",
    "d.dname         #access of instance with . \n",
    "\n",
    "d.dw            #access of instance with .\n",
    "\n",
    "    "
   ]
  },
  {
   "cell_type": "code",
   "execution_count": 15,
   "id": "71b70aec-2a00-4a2e-95db-1b46cde967d8",
   "metadata": {},
   "outputs": [
    {
     "name": "stdout",
     "output_type": "stream",
     "text": [
      "7\n",
      "gaurav\n"
     ]
    }
   ],
   "source": [
    "class first:\n",
    "    def method(self,rol,name): # Method in python\n",
    "        self.rol = rol         #self alse parameter in method\n",
    "        self.name = name        #self are provide special premission to access the instane in methode\n",
    "        print(rol)\n",
    "        print(name)\n",
    "f = first()                  # Object definded\n",
    "f.method(7,\"gaurav\")         #access method in object\n"
   ]
  },
  {
   "cell_type": "code",
   "execution_count": 8,
   "id": "2d64e5cf-2fce-401b-9d7a-45b9de5b632d",
   "metadata": {},
   "outputs": [
    {
     "name": "stdout",
     "output_type": "stream",
     "text": [
      "this is add 51\n",
      "this is pie 9.42\n",
      "this is mul 27\n",
      "this is sub 30\n"
     ]
    }
   ],
   "source": [
    "# THIS IS CALCULATE CLASS PROGRAM\n",
    "class cal():\n",
    "    def add(self,a,b):\n",
    "        print(\"this is add\",a+b)\n",
    "    def sub(self,a,b):\n",
    "        print(\"this is sub\",a-b)\n",
    "    def mul(self,a,b):\n",
    "        print(\"this is mul\",a*b)\n",
    "    def div(self,a,b):\n",
    "        print(\"this is div\",a/b)\n",
    "    def mull(self,a,b):\n",
    "        print(\"this is mul\",a**b)\n",
    "    def floar(self,a,b):\n",
    "        print(\"this flor\",a//b)\n",
    "    def pie(self,a):\n",
    "        print(\"this is pie\",3.14*a)\n",
    "class mal(cal):\n",
    "   \"\"\" def sub(self,a,b):\n",
    "        pass\"\"\"\n",
    "\n",
    "c = mal()\n",
    "c.add(45,6)\n",
    "c.pie(3)\n",
    "c.mull(3,3)\n",
    "c.sub(34,4)"
   ]
  },
  {
   "cell_type": "code",
   "execution_count": 8,
   "id": "adbf616d-d704-4e77-8ad2-1f52e5a0f909",
   "metadata": {},
   "outputs": [
    {
     "name": "stdout",
     "output_type": "stream",
     "text": [
      "this is employe name = gaurav postition of emp = boss work time = 4 \n"
     ]
    }
   ],
   "source": [
    "class emp:\n",
    "    def __init__(self,name,position,salary,time):\n",
    "        self.name = name\n",
    "        self.position = position\n",
    "        self.__salary = salary\n",
    "        self._time = time\n",
    "    def display(self):\n",
    "        print(f\"this is employe name  = {self.name} postition of emp = {self.position} work time = {self._time} salary = {self.__salary}\")\n",
    "class man(emp):\n",
    "    def display(self):\n",
    "        print(f\"this is employe name = {self.name} postition of emp = {self.position} work time = {self._time} \")\n",
    "m = man(\"gaurav\",\"boss\",78087,9-5)\n",
    "m.display()"
   ]
  },
  {
   "cell_type": "code",
   "execution_count": null,
   "id": "d72b0247-e20c-45fe-babc-b7ec21cef9a3",
   "metadata": {},
   "outputs": [],
   "source": [
    "class car:\n",
    "    def __init__(self,make,modal,year):\n",
    "        self.make = make\n",
    "        self.modal= modal\n",
    "        self.year = year\n",
    "        self.is_running = False\n",
    "    def start(self):\n",
    "        if (self.is_running == True):\n",
    "            print(f\"{self.make} {self.modal} engine started\")\n",
    "        else:\n",
    "            print(\"not start\")\n",
    "    def stop(self):\n",
    "        if(self.is_running == False):\n",
    "            print(f\"{self.make} {self.modal} engine stoped\")\n",
    "        else:\n",
    "            print(\"stopped\")\n",
    "    def dis(self):\n",
    "        print(\"running\",f\"{self.make } {self.modal} {self.year} and RUNNING \")\n",
    "\n",
    "c = car(1,\"25bmw\",2025)\n",
    "c.dis()\n",
    "c.start()\n",
    "c.stop()"
   ]
  },
  {
   "cell_type": "code",
   "execution_count": null,
   "id": "42e2aaac-cae6-4ff4-b0cd-eb0afd9ba8e0",
   "metadata": {},
   "outputs": [],
   "source": [
    "class bank:\n",
    "    def __init__(self,account_num,acc_hol_name,initial_baln =0):\n",
    "        self.account_num = account_num,\n",
    "        self.acc_hol_name = acc_hol_name\n",
    "        self.initial_baln = initial_baln\n",
    "    def deposit(self,amount):\n",
    "        self.amount = amount\n",
    "        if amount>1:\n",
    "            print(\"positive\")\n",
    "            self.initial_baln += amount\n",
    "        else:\n",
    "            print(\"negtive\")\n",
    "    def withdraw(self,amount):\n",
    "        self.amount = amount\n",
    "        if amount>1:\n",
    "            print(\"positive\")\n",
    "            self.initial_baln -= amount\n",
    "        else:\n",
    "            print(\"negtive\")\n",
    "    def get_bal(self):\n",
    "        print(f\"current amount {self.initial_baln}\")\n",
    "\n",
    "    def dis(self):\n",
    "        print(f\"number = {self.account_num}  name of holder = {self.acc_hol_name} current balance= {self.initial_baln}\")\n",
    "g = bank(76567,\"gaurav\",)\n",
    "g.get_bal()\n",
    "g.dis()"
   ]
  }
 ],
 "metadata": {
  "kernelspec": {
   "display_name": "Python 3 (ipykernel)",
   "language": "python",
   "name": "python3"
  },
  "language_info": {
   "codemirror_mode": {
    "name": "ipython",
    "version": 3
   },
   "file_extension": ".py",
   "mimetype": "text/x-python",
   "name": "python",
   "nbconvert_exporter": "python",
   "pygments_lexer": "ipython3",
   "version": "3.13.7"
  }
 },
 "nbformat": 4,
 "nbformat_minor": 5
}
