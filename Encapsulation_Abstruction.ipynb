{
 "cells": [
  {
   "cell_type": "code",
   "execution_count": 5,
   "id": "2662f5d0-8cf8-4d5e-be24-cd3aeec26109",
   "metadata": {},
   "outputs": [
    {
     "name": "stdout",
     "output_type": "stream",
     "text": [
      " The name = gaurav  ACCOUNT =2346 \n"
     ]
    }
   ],
   "source": [
    "# Encapsulation and Abstructmentod\n",
    "class emp:\n",
    "    def __init__(self,name,account,salary):\n",
    "        self.name = name                # public method\n",
    "        self._account = account          # protected method\n",
    "        self.__salary = salary           # private method\n",
    "    def show(self):\n",
    "        print(f\" The name = {self.name}  ACCOUNT ={self._account} salary ={self.__salary}\")\n",
    "class bank(emp):\n",
    "    def show(self):\n",
    "          print(f\" The name = {self.name}  ACCOUNT ={self._account} \")  # private method does not work because you written  __salary and its private its not access in subclass\n",
    "c  = bank(\"gaurav\",2346,89000)\n",
    "c.show()\n"
   ]
  },
  {
   "cell_type": "code",
   "execution_count": 21,
   "id": "2ba64627-b5c2-4d7c-8195-2227ce18b2f7",
   "metadata": {},
   "outputs": [],
   "source": [
    "class car:\n",
    "    def __init__(self,name,mname,cnumber):\n",
    "        self.name = name                # public method\n",
    "        self._mname = mname        # protected method\n",
    "        self.__cnumber = cnumber           # private method\n",
    "    def show(self):\n",
    "        print(f\" The name = {self.name}  ACCOUNT ={self._mname} salary ={self.__cnumber}\")\n",
    "        \n",
    "class bank(emp):\n",
    "    def show(self):\n",
    "          print(f\" The name = {self.name}  ACCOUNT ={self._mname} \")  # private method does not work because you written  __salary and its private its not access in subclass\n",
    "c  = bank(\"gaurav\",2346,\"cs89000\")\n",
    "#print(c.__cnumer) # this time they give error private method did not exit in subclass\n",
    "#print(c._mname)    # protected method allow in subclass\n"
   ]
  },
  {
   "cell_type": "code",
   "execution_count": 17,
   "id": "e384abc8-7d0d-42fd-a3a3-3a8e5ebb6df0",
   "metadata": {},
   "outputs": [
    {
     "name": "stdout",
     "output_type": "stream",
     "text": [
      " The name = bmw  ACCOUNT =2025 salary =ajc989\n",
      "2025\n"
     ]
    }
   ],
   "source": [
    "m = car(\"bmw\",2025,\"ajc989\")\n",
    "m.show()     #its run because its a class not subclass\n",
    "print(m._mname)"
   ]
  },
  {
   "cell_type": "code",
   "execution_count": null,
   "id": "24d1b16a-9e88-4f5d-aae4-b7501589b9e4",
   "metadata": {},
   "outputs": [],
   "source": [
    "# ABSTRACTION IN PYTHON"
   ]
  },
  {
   "cell_type": "code",
   "execution_count": 30,
   "id": "12583784-a37d-4453-887a-f298d255f3a8",
   "metadata": {},
   "outputs": [
    {
     "data": {
      "text/plain": [
       "7921"
      ]
     },
     "execution_count": 30,
     "metadata": {},
     "output_type": "execute_result"
    }
   ],
   "source": [
    "from abc import ABC,abstractmethod\n",
    "class cm(ABC):\n",
    "    @abstractmethod    #this is abstraction method use\n",
    "    def deposit(self,amount):\n",
    "        pass\n",
    "    @abstractmethod     #hide method form the user\n",
    "    def withdraw(self,amount):\n",
    "        pass\n",
    "class m(cm):\n",
    "    def deposit(self,amount):\n",
    "        return amount*amount\n",
    "    def withdraw(self,amount):\n",
    "        return 4*amount\n",
    "    def slide(self,amount):\n",
    "        return amount**3.14\n",
    "f = m()\n",
    "f.deposit(89)"
   ]
  },
  {
   "cell_type": "code",
   "execution_count": null,
   "id": "10f98699-f1b8-4782-a2e8-9d45c3decaed",
   "metadata": {},
   "outputs": [],
   "source": [
    "\"\"\"  encapsultation are also hide data from the user but its give more secure compare to abstract\n",
    "and encapsultion also focus to hide the data\""
   ]
  },
  {
   "cell_type": "code",
   "execution_count": null,
   "id": "4a470669-9408-45cc-98bf-14ab2862309f",
   "metadata": {},
   "outputs": [],
   "source": [
    "\"\"\" abstraction is also hide data but its not give secure and also show important method form the user\"\"\""
   ]
  }
 ],
 "metadata": {
  "kernelspec": {
   "display_name": "Python 3 (ipykernel)",
   "language": "python",
   "name": "python3"
  },
  "language_info": {
   "codemirror_mode": {
    "name": "ipython",
    "version": 3
   },
   "file_extension": ".py",
   "mimetype": "text/x-python",
   "name": "python",
   "nbconvert_exporter": "python",
   "pygments_lexer": "ipython3",
   "version": "3.13.7"
  }
 },
 "nbformat": 4,
 "nbformat_minor": 5
}
